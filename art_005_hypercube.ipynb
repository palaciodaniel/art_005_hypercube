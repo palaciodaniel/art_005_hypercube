{
 "cells": [
  {
   "cell_type": "markdown",
   "metadata": {},
   "source": [
    "# ART 005 - Hypercube\n",
    "By **Daniel Palacio** (github.com/palaciodaniel) - January 2021\n",
    "\n",
    "To run this visualization, you need the *jgraph* library. If you do not have it installed, please erase the \"#\" sign on the following cell and then go to **Kernel > Restart and Run All**."
   ]
  },
  {
   "cell_type": "code",
   "execution_count": 1,
   "metadata": {},
   "outputs": [],
   "source": [
    "# pip install jgraph"
   ]
  },
  {
   "cell_type": "code",
   "execution_count": 2,
   "metadata": {},
   "outputs": [
    {
     "data": {
      "text/html": [
       "<div id=\"graph-ff36f348-c6de-48ec-8656-4e388bec66e7\"></div>\n",
       "           <script type=\"text/javascript\">\n",
       "           require.config({baseUrl: '/',\n",
       "                             paths: {jgraph: ['nbextensions/jgraph.min', 'https://rawgit.com/patrickfuller/jgraph/master/js/build/jgraph.min']}});\n",
       "           require(['jgraph'], function () {\n",
       "               var $d = $('#graph-ff36f348-c6de-48ec-8656-4e388bec66e7');\n",
       "               $d.width(600); $d.height(400);\n",
       "               $d.jgraph = jQuery.extend({}, jgraph);\n",
       "               $d.jgraph.create($d, {nodeSize: 2.000000,\n",
       "                                     edgeSize: 0.250000,\n",
       "                                     defaultNodeColor: '0x5bc0de',\n",
       "                                     defaultEdgeColor: '0xaaaaaa',\n",
       "                                     shader: 'basic',\n",
       "                                     z: 100,\n",
       "                                     runOptimization: true,\n",
       "                                     directed: true,\n",
       "                                     showSave: false});\n",
       "               $d.jgraph.draw({\n",
       "    \"edges\": [\n",
       "        { \"source\": 1, \"target\": 2 },\n",
       "        { \"source\": 1, \"target\": 4 },\n",
       "        { \"source\": 1, \"target\": 5 },\n",
       "        { \"source\": 1, \"target\": 9 },\n",
       "        { \"source\": 2, \"target\": 3 },\n",
       "        { \"source\": 2, \"target\": 6 },\n",
       "        { \"source\": 2, \"target\": 10 },\n",
       "        { \"source\": 3, \"target\": 4 },\n",
       "        { \"source\": 3, \"target\": 8 },\n",
       "        { \"source\": 3, \"target\": 11 },\n",
       "        { \"source\": 4, \"target\": 7 },\n",
       "        { \"source\": 4, \"target\": 12 },\n",
       "        { \"source\": 5, \"target\": 6 },\n",
       "        { \"source\": 5, \"target\": 7 },\n",
       "        { \"source\": 5, \"target\": 15 },\n",
       "        { \"source\": 6, \"target\": 8 },\n",
       "        { \"source\": 6, \"target\": 13 },\n",
       "        { \"source\": 7, \"target\": 8 },\n",
       "        { \"source\": 7, \"target\": 16 },\n",
       "        { \"source\": 8, \"target\": 14 },\n",
       "        { \"source\": 9, \"target\": 10 },\n",
       "        { \"source\": 9, \"target\": 12 },\n",
       "        { \"source\": 9, \"target\": 15 },\n",
       "        { \"source\": 10, \"target\": 11 },\n",
       "        { \"source\": 10, \"target\": 13 },\n",
       "        { \"source\": 11, \"target\": 12 },\n",
       "        { \"source\": 11, \"target\": 14 },\n",
       "        { \"source\": 12, \"target\": 16 },\n",
       "        { \"source\": 13, \"target\": 14 },\n",
       "        { \"source\": 13, \"target\": 15 },\n",
       "        { \"source\": 14, \"target\": 16 },\n",
       "        { \"source\": 15, \"target\": 16 }\n",
       "    ],\n",
       "    \"nodes\": {\n",
       "        \"1\": { \"location\": [ -2.0, -2.0, -2.0 ] },\n",
       "        \"2\": { \"location\": [ -2.0, -2.0, -2.0 ] },\n",
       "        \"3\": { \"location\": [ -2.0, -2.0, -2.0 ] },\n",
       "        \"4\": { \"location\": [ -2.0, -2.0, -2.0 ] },\n",
       "        \"5\": { \"location\": [ -2.0, -2.0, -2.0 ] },\n",
       "        \"6\": { \"location\": [ -2.0, -2.0, -2.0 ] },\n",
       "        \"7\": { \"location\": [ -1.640105335570966, -1.693522629332242, -1.523939790149903 ] },\n",
       "        \"8\": { \"location\": [ -0.566576913585721, -0.7420267696433542, -0.7447007980637433 ] },\n",
       "        \"9\": { \"location\": [ 1.0489204783926724, 0.2055254110200253, -0.09134467910655826 ] },\n",
       "        \"10\": { \"location\": [ 1.488557535928192, 1.4181047905099158, 1.5402629375236871 ] },\n",
       "        \"11\": { \"location\": [ 2.0, 2.0, 2.0 ] },\n",
       "        \"12\": { \"location\": [ 2.0, 2.0, 2.0 ] },\n",
       "        \"13\": { \"location\": [ 2.0, 2.0, 2.0 ] },\n",
       "        \"14\": { \"location\": [ 2.0, 2.0, 2.0 ] },\n",
       "        \"15\": { \"location\": [ 2.0, 2.0, 2.0 ] },\n",
       "        \"16\": { \"location\": [ 2.0, 2.0, 2.0 ] }\n",
       "    }\n",
       "});\n",
       "\n",
       "               $d.resizable({\n",
       "                   aspectRatio: 600 / 400,\n",
       "                   resize: function (evt, ui) {\n",
       "                       $d.jgraph.renderer.setSize(ui.size.width,\n",
       "                                                  ui.size.height);\n",
       "                   }\n",
       "               });\n",
       "           });\n",
       "           </script>"
      ],
      "text/plain": [
       "<IPython.core.display.HTML object>"
      ]
     },
     "metadata": {},
     "output_type": "display_data"
    }
   ],
   "source": [
    "import jgraph\n",
    "\n",
    "jgraph.draw([(1, 2), (1, 4), (1, 5), (1, 9), \n",
    "             (2, 3), (2, 6), (2, 10), \n",
    "             (3, 4), (3, 8), (3, 11),\n",
    "             (4, 7), (4, 12),\n",
    "             (5, 6), (5, 7), (5, 15),\n",
    "             (6, 8), (6, 13),\n",
    "             (7, 8), (7, 16),\n",
    "             (8, 14),\n",
    "             (9, 10), (9, 12), (9, 15),\n",
    "             (10, 11), (10, 13),\n",
    "             (11, 12), (11, 14),\n",
    "             (12, 16),\n",
    "             (13, 14), (13, 15),\n",
    "             (14, 16), \n",
    "             (15, 16)])"
   ]
  }
 ],
 "metadata": {
  "kernelspec": {
   "display_name": "Python 3",
   "language": "python",
   "name": "python3"
  },
  "language_info": {
   "codemirror_mode": {
    "name": "ipython",
    "version": 3
   },
   "file_extension": ".py",
   "mimetype": "text/x-python",
   "name": "python",
   "nbconvert_exporter": "python",
   "pygments_lexer": "ipython3",
   "version": "3.8.3"
  }
 },
 "nbformat": 4,
 "nbformat_minor": 4
}
